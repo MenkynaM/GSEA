{
 "cells": [
  {
   "attachments": {},
   "cell_type": "markdown",
   "metadata": {},
   "source": [
    "import os, pandas as pd"
   ]
  },
  {
   "cell_type": "code",
   "execution_count": null,
   "metadata": {},
   "outputs": [],
   "source": [
    "import numpy as np"
   ]
  },
  {
   "cell_type": "code",
   "execution_count": null,
   "metadata": {},
   "outputs": [],
   "source": [
    "import os, pandas as pd\n",
    "pd.set_option('display.max_columns', None)"
   ]
  },
  {
   "cell_type": "code",
   "execution_count": null,
   "metadata": {},
   "outputs": [],
   "source": [
    "df = pd.read_excel('karcinom_all_original.xlsx')"
   ]
  },
  {
   "cell_type": "code",
   "execution_count": null,
   "metadata": {},
   "outputs": [],
   "source": [
    "df"
   ]
  },
  {
   "cell_type": "code",
   "execution_count": null,
   "metadata": {},
   "outputs": [],
   "source": [
    "df.columns"
   ]
  },
  {
   "cell_type": "code",
   "execution_count": null,
   "metadata": {},
   "outputs": [],
   "source": [
    "df_GS = df.drop(columns=df.columns.difference([col for col in df.columns if ('Count' in col) or ('Sym' in col)]))\n",
    "df_GS.columns = ['Protein Set'] + [col.split(' ')[4][:-1] for col in df_GS.columns if 'Count' in col]\n",
    "df_GS.set_index('Protein Set', inplace=True)\n",
    "df_GS = df_GS[df_GS.index.notna()]\n",
    "df_GS.fillna(0.0, inplace=True)\n",
    "df_GS.reset_index(inplace=True)\n",
    "df_GS['Description'] = 'na'\n",
    "df_GS = df_GS.reindex(columns=['Protein Set', 'Description'] + list(df_GS.columns[1:-1]))\n",
    "df_GS.to_csv('karcinom_ALL_GS.csv', sep='\\t', index=False)"
   ]
  },
  {
   "cell_type": "code",
   "execution_count": null,
   "metadata": {},
   "outputs": [],
   "source": [
    "cols = [col[0] for col in df_GS.columns[2:]]\n",
    "Z_occur = cols.count('Z')\n",
    "K_occur = cols.count('K')\n",
    "\n",
    "with open('karcinom_ALL_GS.cls', 'w') as f:\n",
    "    f.write(\n",
    "        str(len(cols)) + ' 2 1\\n# K Z\\n' + ' '.join(cols)\n",
    "    )"
   ]
  }
 ],
 "metadata": {
  "kernelspec": {
   "display_name": "Python 3",
   "language": "python",
   "name": "python3"
  },
  "language_info": {
   "codemirror_mode": {
    "name": "ipython",
    "version": 3
   },
   "file_extension": ".py",
   "mimetype": "text/x-python",
   "name": "python",
   "nbconvert_exporter": "python",
   "pygments_lexer": "ipython3",
   "version": "3.10.6"
  },
  "orig_nbformat": 4
 },
 "nbformat": 4,
 "nbformat_minor": 2
}
